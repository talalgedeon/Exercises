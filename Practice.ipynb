{
 "cells": [
  {
   "cell_type": "code",
   "execution_count": 6,
   "metadata": {},
   "outputs": [],
   "source": [
    "SampleString = \"Twinkle, twinkle, little star, How I wonder what you are! Up above the world so high, Like a diamond in the sky. Twinkle, twinkle, little star, How I wonder what you are\" "
   ]
  },
  {
   "cell_type": "code",
   "execution_count": 7,
   "metadata": {},
   "outputs": [
    {
     "data": {
      "text/plain": [
       "'Twinkle, twinkle, little star, How I wonder what you are! \\n Up above the world so high, Like a diamond in the sky. Twinkle, twinkle, little star, How I wonder what you are'"
      ]
     },
     "execution_count": 7,
     "metadata": {},
     "output_type": "execute_result"
    }
   ],
   "source": [
    "SampleString"
   ]
  },
  {
   "cell_type": "code",
   "execution_count": 14,
   "metadata": {},
   "outputs": [
    {
     "name": "stdout",
     "output_type": "stream",
     "text": [
      "b'/Users/talalagedeon/Exercises'\n"
     ]
    }
   ],
   "source": [
    "import os\n",
    "# get current working directory\n",
    "print(os.getcwdb())"
   ]
  },
  {
   "cell_type": "code",
   "execution_count": 27,
   "metadata": {},
   "outputs": [
    {
     "name": "stdout",
     "output_type": "stream",
     "text": [
      "2019-08-24\n",
      "2019-08-24 20:28:09.956164\n",
      "24/08/2019 20:28:09\n"
     ]
    }
   ],
   "source": [
    "from datetime import date\n",
    "from datetime import datetime\n",
    "\n",
    "# gets current date\n",
    "today = date.today()\n",
    "print(today)\n",
    "time= datetime.now()\n",
    "print(time)\n",
    "dt_string = time.strftime(\"%d/%m/%Y %H:%M:%S\")\n",
    "print(dt_string)"
   ]
  },
  {
   "cell_type": "code",
   "execution_count": 48,
   "metadata": {},
   "outputs": [
    {
     "name": "stdout",
     "output_type": "stream",
     "text": [
      "Area: 5.000000000000001\n",
      "Circumference:  7.926654595212023\n",
      "Diameter: 2.5231325220201604\n",
      "Radius: 1.2615662610100802\n"
     ]
    }
   ],
   "source": [
    "import math\n",
    "# circle radius\n",
    "\n",
    "A=5\n",
    "area_a= math.pi*(r**2)\n",
    "circum_c = 2*math.pi*r\n",
    "diameter_d=2*r\n",
    "r= math.sqrt(A/math.pi)\n",
    "\n",
    "print(\"Area:\",area_a)\n",
    "print(\"Circumference: \",circum_c)\n",
    "print(\"Diameter:\",diameter_d)\n",
    "print(\"Radius:\",r)\n",
    "\n"
   ]
  },
  {
   "cell_type": "code",
   "execution_count": 31,
   "metadata": {},
   "outputs": [
    {
     "name": "stdout",
     "output_type": "stream",
     "text": [
      "3.141592653589793\n"
     ]
    }
   ],
   "source": [
    "print(math.pi)"
   ]
  },
  {
   "cell_type": "code",
   "execution_count": 158,
   "metadata": {},
   "outputs": [
    {
     "name": "stdout",
     "output_type": "stream",
     "text": [
      "T.A.Gedeon\n",
      "H.S.Nabulsi\n"
     ]
    }
   ],
   "source": [
    "# user's first and last name and print them in reverse order with a space between them\n",
    "def name(s):\n",
    "    l=s.split()\n",
    "    new=\"\"\n",
    "    \n",
    "    for i in range(len(l)-1):\n",
    "        s=l[i]\n",
    "        new +=(s[0].upper()+'.')\n",
    "    \n",
    "    new += l[-1].title()\n",
    "\n",
    "    \n",
    "    return new\n",
    "\n",
    "s = \"talal assad gedeon\"\n",
    "s1=\"hamzah sami nabulsi\"\n",
    "print(name(s))\n",
    "print(name(s1))\n",
    "\n"
   ]
  },
  {
   "cell_type": "code",
   "execution_count": 195,
   "metadata": {},
   "outputs": [
    {
     "name": "stdout",
     "output_type": "stream",
     "text": [
      "['3,5,7,23']\n",
      "('3', ',', '5', ',', '7', ',', '2', '3')\n",
      "('3', '5', '7', '2', '3')\n"
     ]
    }
   ],
   "source": [
    "sampledata = '3,5,7,23'\n",
    "sampledata1 = '35723'\n",
    "\n",
    "b= tuple(sampledata)\n",
    "list2 = sampledata.split(\" \")\n",
    "\n",
    "c= tuple(sampledata1)\n",
    "print(list2)\n",
    "print(b)\n",
    "print(c)"
   ]
  },
  {
   "cell_type": "code",
   "execution_count": 239,
   "metadata": {},
   "outputs": [
    {
     "name": "stdout",
     "output_type": "stream",
     "text": [
      "file extention is: 'java'\n"
     ]
    }
   ],
   "source": [
    "import re\n",
    "file= 'abc.java'\n",
    "split=file.split('.')\n",
    "\n",
    "print(\"file extention is:\", repr(split[-1]))"
   ]
  },
  {
   "cell_type": "code",
   "execution_count": null,
   "metadata": {},
   "outputs": [],
   "source": []
  }
 ],
 "metadata": {
  "kernelspec": {
   "display_name": "Python 3",
   "language": "python",
   "name": "python3"
  },
  "language_info": {
   "codemirror_mode": {
    "name": "ipython",
    "version": 3
   },
   "file_extension": ".py",
   "mimetype": "text/x-python",
   "name": "python",
   "nbconvert_exporter": "python",
   "pygments_lexer": "ipython3",
   "version": "3.7.3"
  }
 },
 "nbformat": 4,
 "nbformat_minor": 2
}
